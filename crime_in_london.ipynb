{
 "cells": [
  {
   "cell_type": "markdown",
   "metadata": {},
   "source": [
    "#### Libraries"
   ]
  },
  {
   "cell_type": "code",
   "execution_count": null,
   "metadata": {
    "vscode": {
     "languageId": "plaintext"
    }
   },
   "outputs": [],
   "source": [
    "import glob\n",
    "import pandas as pd\n",
    "import uuid\n",
    "import os\n",
    "import hashlib"
   ]
  },
  {
   "cell_type": "markdown",
   "metadata": {},
   "source": [
    "### Uploading data"
   ]
  },
  {
   "cell_type": "markdown",
   "metadata": {},
   "source": [
    "path = r'C:\\Users\\u1142974\\Crime UK\\2024\\Data'\n",
    "csv_files = glob.glob(path + \"/*.csv\")\n",
    "df_list = (pd.read_csv(file) for file in csv_files)\n",
    "df = pd.concat(df_list, ignore_index=True)\n",
    "df.rename(columns = {'Crime ID':'ID', 'Crime type':'Type','LSOA name':'LSOA'}, inplace = True)\n",
    "df = df.iloc[:,[0,1,2,3,4,5,7,9]]"
   ]
  },
  {
   "cell_type": "code",
   "execution_count": null,
   "metadata": {
    "vscode": {
     "languageId": "plaintext"
    }
   },
   "outputs": [],
   "source": [
    "df"
   ]
  },
  {
   "cell_type": "markdown",
   "metadata": {},
   "source": [
    "### Cleaing data"
   ]
  },
  {
   "cell_type": "markdown",
   "metadata": {},
   "source": [
    "#### Analysis of missing data"
   ]
  },
  {
   "cell_type": "markdown",
   "metadata": {},
   "source": [
    "#\n",
    "df = df[~df['Month'].isin([0, '0.0'])]"
   ]
  },
  {
   "cell_type": "code",
   "execution_count": null,
   "metadata": {
    "vscode": {
     "languageId": "plaintext"
    }
   },
   "outputs": [],
   "source": [
    "# Calculate the proportion of missing values for each group in 'Month'\n",
    "missing_proportion = df.groupby('Month').apply(lambda x: x.isnull().sum() / x.shape[0]*100).round(2).astype(str)+'%'\n",
    "\n",
    "# Display the result\n",
    "print(\"\\nProportion of missing values for each group in 'Month':\")\n",
    "missing_proportion"
   ]
  },
  {
   "cell_type": "markdown",
   "metadata": {},
   "source": [
    "#### Handling with missing data"
   ]
  },
  {
   "cell_type": "code",
   "execution_count": null,
   "metadata": {
    "vscode": {
     "languageId": "plaintext"
    }
   },
   "outputs": [],
   "source": [
    "for index, row in df.iterrows():\n",
    "    if pd.isnull(row['ID']):\n",
    "        hash_object = hashlib.sha256(str.encode(str(index)))\n",
    "        df.at[index, 'ID'] = hash_object.hexdigest()"
   ]
  },
  {
   "cell_type": "code",
   "execution_count": null,
   "metadata": {
    "vscode": {
     "languageId": "plaintext"
    }
   },
   "outputs": [],
   "source": [
    "df_cleaned_all = df[~df.duplicated(keep=False)]"
   ]
  },
  {
   "cell_type": "markdown",
   "metadata": {},
   "source": [
    "## Analysis"
   ]
  },
  {
   "cell_type": "code",
   "execution_count": null,
   "metadata": {
    "vscode": {
     "languageId": "plaintext"
    }
   },
   "outputs": [],
   "source": [
    "df_cleaned_all[['ID', 'Type']].groupby('Type').count().sort_values('ID')"
   ]
  },
  {
   "cell_type": "code",
   "execution_count": null,
   "metadata": {},
   "outputs": [],
   "source": [
    "# Group by 'Type' and count occurrences of 'ID'\n",
    "grouped_data = df_cleaned_all[['ID', 'Type']].groupby('Type').count().sort_values('ID', ascending=False)\n",
    "\n",
    "# Define colors using the specified palette\n",
    "colors = sns.color_palette(\"YlGn\", len(grouped_data))\n",
    "\n",
    "# Plotting the bar chart with the specified palette colors for each type\n",
    "fig, ax = plt.subplots(figsize=(35, 15))  # Increase the figure size to make the x-axis bigger\n",
    "bars = ax.bar(grouped_data.index, grouped_data['ID'], color=colors)\n",
    "\n",
    "# Rotate x-axis labels by 45 degrees\n",
    "plt.xticks(rotation=45, ha = 'right')\n",
    "\n",
    "# Show plot\n",
    "plt.show()\n"
   ]
  },
  {
   "cell_type": "code",
   "execution_count": null,
   "metadata": {},
   "outputs": [],
   "source": [
    "# Convert categorical data to numerical data using one-hot encoding\n",
    "data_encoded = pd.get_dummies(df_cleaned_all, columns=['Type'])\n",
    "\n",
    "# Ensure all data is numeric and handle non-numeric values\n",
    "for column in data_encoded.columns:\n",
    "    data_encoded[column] = pd.to_numeric(data_encoded[column], errors='coerce')\n",
    "\n",
    "# Fill missing values with the mean of the column\n",
    "data_encoded.fillna(data_encoded.mean(), inplace=True)\n",
    "\n",
    "# Calculate Pearson correlation\n",
    "correlation_matrix_type_numeric = data_encoded.corr(method='pearson')\n",
    "\n",
    "# Display correlation between types of crimes\n",
    "type_columns = [col for col in data_encoded.columns if col.startswith('Type_')]\n",
    "correlation_matrix_type_numeric = correlation_matrix_type_numeric.loc[type_columns, type_columns]\n",
    "\n",
    "correlation_matrix_type_numeric"
   ]
  },
  {
   "cell_type": "code",
   "execution_count": null,
   "metadata": {},
   "outputs": [],
   "source": [
    "# Zakoduj kolumnę \"Type\" używając one-hot encoding\n",
    "df_encoded = pd.get_dummies(df_cleaned_all['Type'], prefix='Type')\n",
    "\n",
    "# Oblicz korelację Pearsona\n",
    "correlation_matrix = df_encoded.corr(method='pearson')\n",
    "\n",
    "# Wyświetl macierz korelacji\n",
    "correlation_matrix"
   ]
  },
  {
   "cell_type": "code",
   "execution_count": null,
   "metadata": {},
   "outputs": [],
   "source": [
    "# Convert 'Month' to datetime format\n",
    "df_cleaned_all['Month'] = pd.to_datetime(df_cleaned_all['Month'])\n",
    "\n",
    "# Group by 'Month' and 'Type' and count occurrences of 'ID'\n",
    "grouped_data = df_cleaned_all.groupby(['Month', 'Type']).count().reset_index()\n",
    "\n",
    "# Pivot the data to get a time series format\n",
    "pivot_data = grouped_data.pivot(index='Month', columns='Type', values='ID').fillna(0)\n",
    "\n",
    "# Define colors using the specified palette\n",
    "colors = sns.color_palette(\"rocket\", len(pivot_data.columns))\n",
    "\n",
    "# Plotting the time series data with specified colors for each type\n",
    "fig, ax = plt.subplots(figsize=(35, 10))  # Increase the figure size to make the x-axis bigger\n",
    "\n",
    "for i, crime_type in enumerate(pivot_data.columns):\n",
    "    ax.plot(pivot_data.index, pivot_data[crime_type], color=colors[i], label=crime_type)\n",
    "    ax.bar(pivot_data.index, pivot_data[crime_type], color=colors[i], alpha=0.3)\n",
    "\n",
    "# Adding title and labels\n",
    "plt.title('Time Series of Crime Types')\n",
    "plt.xlabel('Month')\n",
    "plt.ylabel('Count of IDs')\n",
    "\n",
    "# Rotate x-axis labels by 45 degrees and show all months\n",
    "ax.set_xticks(pivot_data.index)\n",
    "ax.set_xticklabels(pivot_data.index.strftime('%Y-%m'), rotation=45, ha='right')\n",
    "\n",
    "# Add legend\n",
    "plt.legend()\n",
    "\n",
    "# Show plot\n",
    "plt.show()"
   ]
  }
 ],
 "metadata": {
  "language_info": {
   "name": "python"
  }
 },
 "nbformat": 4,
 "nbformat_minor": 2
}
